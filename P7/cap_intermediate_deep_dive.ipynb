{
 "cells": [
  {
   "cell_type": "code",
   "execution_count": null,
   "id": "b09d0e54-0b69-47bf-8d88-db32b093dd6a",
   "metadata": {},
   "outputs": [],
   "source": [
    "import scanpy as sc\n",
    "import pandas as pd\n",
    "import numpy as np"
   ]
  },
  {
   "cell_type": "code",
   "execution_count": null,
   "id": "60c602d6-fa12-4c07-9065-fefa2eba1a02",
   "metadata": {},
   "outputs": [],
   "source": [
    "data = 'data/single_cell_files/scanpy_files'\n",
    "adata = sc.read(f'{data}/kdr_ko_p7_celltyped_no_cc.gz.h5ad')"
   ]
  },
  {
   "cell_type": "code",
   "execution_count": null,
   "id": "bf9e85d6-419a-4380-881f-05c24a1a5565",
   "metadata": {},
   "outputs": [],
   "source": [
    "adata_endo = adata[adata.obs['Lineage']=='Endothelial']"
   ]
  },
  {
   "cell_type": "code",
   "execution_count": null,
   "id": "9f64827d-0ad4-4407-b4ec-04fb755d7600",
   "metadata": {},
   "outputs": [],
   "source": [
    "from functions import compare_obs_values_within_groups_to_excel"
   ]
  },
  {
   "cell_type": "code",
   "execution_count": null,
   "id": "2d62def5-9af3-4c82-b956-e52bc32c3445",
   "metadata": {},
   "outputs": [],
   "source": [
    "sc.pl.embedding(adata_endo,\n",
    "                basis = 'X_umap_Endothelial_no_cc',\n",
    "                color = 'leiden_Endothelial_no_cc'\n",
    "               )"
   ]
  },
  {
   "cell_type": "code",
   "execution_count": null,
   "id": "286b172e-3f1e-4bcb-9564-89df2457d1cc",
   "metadata": {},
   "outputs": [],
   "source": [
    "sc.pl.embedding(adata_endo,\n",
    "                basis = 'X_umap_Endothelial_no_cc',\n",
    "                color = ['Rgs6']\n",
    "               )"
   ]
  },
  {
   "cell_type": "code",
   "execution_count": null,
   "id": "398ee9ee-7e2b-4a1e-b0f5-c5b20d42e873",
   "metadata": {},
   "outputs": [],
   "source": [
    "degs = pd.read_excel('data/figures/cell_typing_no_cc/Endothelial/leiden_Endothelial_no_cc_5_v_11_comparison.xlsx',index_col=0,header=0)\n",
    "degs"
   ]
  },
  {
   "cell_type": "code",
   "execution_count": null,
   "id": "5ac11e59-640c-43c5-91bc-8c8dcdb5e8a4",
   "metadata": {},
   "outputs": [],
   "source": [
    "sc.pl.embedding(adata_endo,\n",
    "                basis = 'X_umap_Endothelial_no_cc',\n",
    "                color = degs.head(50).index\n",
    "               )"
   ]
  },
  {
   "cell_type": "code",
   "execution_count": null,
   "id": "93444f10-6893-4da3-b1fd-8d5450413662",
   "metadata": {},
   "outputs": [],
   "source": [
    "sc.pl.embedding(adata_endo,\n",
    "                basis = 'X_umap_Endothelial_no_cc',\n",
    "                color = degs.tail(50).index\n",
    "               )"
   ]
  },
  {
   "cell_type": "code",
   "execution_count": null,
   "id": "e184f7fd-2566-4cff-ba7f-bc4b886fea5a",
   "metadata": {},
   "outputs": [],
   "source": [
    "sc.pl.embedding(adata_endo,\n",
    "                basis = 'X_umap_Endothelial_no_cc',\n",
    "                color = degs.tail(50).index\n",
    "               )"
   ]
  },
  {
   "cell_type": "code",
   "execution_count": null,
   "id": "cb9f0a98-46d8-4830-843e-5e2b6d113ccf",
   "metadata": {},
   "outputs": [],
   "source": [
    "genes = ['Rgs6','Tbx3os1','Kif26b','Tbx2','Kdr','Emp2','Egflam','Lmntd1','Cyp4b1']"
   ]
  },
  {
   "cell_type": "code",
   "execution_count": null,
   "id": "5607f85a-03ff-43f7-8a80-8b8e2a4d4ea9",
   "metadata": {},
   "outputs": [],
   "source": [
    "categories_order = []\n",
    "for ct in ['Cap1','Cap1_Cap2','Cap2']:\n",
    "    for lib in ['WT','KO']:\n",
    "        categories_order.append(f'{ct}_{lib}')\n",
    "sc.pl.dotplot(adata_endo[adata_endo.obs['Cell Subtype_no_cc'].str.startswith('Cap')],genes,groupby=['Cell Subtype_no_cc','Genotype'],standard_scale = 'var',categories_order=categories_order)"
   ]
  },
  {
   "cell_type": "code",
   "execution_count": null,
   "id": "500a3c92-786e-4cd7-89e0-50d5d03bfc87",
   "metadata": {},
   "outputs": [],
   "source": [
    "compare_obs_values_within_groups_to_excel(adata_endo[adata_endo.obs['leiden_Endothelial_no_cc'].isin(['5','11'])],\n",
    "                                          f\"leiden_Endothelial_no_cc\",\n",
    "                                          output_prefix=f\"data/figures/cell_typing_no_cc/Endothelial/leiden_Endothelial_no_cc_5_v_11_comparison\"\n",
    ")"
   ]
  }
 ],
 "metadata": {
  "kernelspec": {
   "display_name": "Python 3 (ipykernel)",
   "language": "python",
   "name": "python3"
  },
  "language_info": {
   "codemirror_mode": {
    "name": "ipython",
    "version": 3
   },
   "file_extension": ".py",
   "mimetype": "text/x-python",
   "name": "python",
   "nbconvert_exporter": "python",
   "pygments_lexer": "ipython3",
   "version": "3.12.8"
  }
 },
 "nbformat": 4,
 "nbformat_minor": 5
}
