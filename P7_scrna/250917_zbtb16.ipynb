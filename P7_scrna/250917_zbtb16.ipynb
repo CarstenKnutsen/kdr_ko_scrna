{
 "cells": [
  {
   "cell_type": "code",
   "execution_count": null,
   "id": "b09d0e54-0b69-47bf-8d88-db32b093dd6a",
   "metadata": {},
   "outputs": [],
   "source": [
    "import scanpy as sc\n",
    "import pandas as pd\n",
    "import numpy as np"
   ]
  },
  {
   "cell_type": "code",
   "execution_count": null,
   "id": "3914a5c2-ef94-415a-9696-56f058d8d686",
   "metadata": {},
   "outputs": [],
   "source": [
    "adata_name = 'kdr_ko_p7_sc'\n",
    "data = 'data/single_cell_files/scanpy_files'\n",
    "adata = sc.read(f'{data}/{adata_name}_filtered_embed.gz.h5ad')"
   ]
  },
  {
   "cell_type": "code",
   "execution_count": null,
   "id": "60c602d6-fa12-4c07-9065-fefa2eba1a02",
   "metadata": {},
   "outputs": [],
   "source": [
    "\n",
    "sc.tl.score_genes(adata,adata.var.loc[adata.var['seqname']=='chrY'].index,score_name='Y chromosome score')\n"
   ]
  },
  {
   "cell_type": "code",
   "execution_count": null,
   "id": "bf9e85d6-419a-4380-881f-05c24a1a5565",
   "metadata": {},
   "outputs": [],
   "source": [
    "sc.pl.umap(adata,color=['Library','Zbtb16','Y chromosome score'])\n",
    "sc.pl.umap(adata,color=['Library','Zbtb16','Y chromosome score','log1p_n_genes_by_umis'])\n"
   ]
  },
  {
   "cell_type": "code",
   "execution_count": null,
   "id": "ecc3ce9f-6b0f-4b4f-9937-ef3305fe6d40",
   "metadata": {},
   "outputs": [],
   "source": [
    "sc.pl.violin(adata,'Y chromosome score',groupby='celltype_rough',rotation=90)\n",
    "sc.pl.violin(adata,'log1p_n_genes_by_umis',groupby='celltype_rough',rotation=90)"
   ]
  },
  {
   "cell_type": "code",
   "execution_count": null,
   "id": "8adcb46c-0ed6-48a5-9043-866ad4021c59",
   "metadata": {},
   "outputs": [],
   "source": [
    "sc.pl.scatter(adata,x='Zbtb16',y='Y chromosome score',color='celltype_rough')\n",
    "sc.pl.scatter(adata,x='log1p_n_genes_by_umis',y='Y chromosome score',color='celltype_rough')\n",
    "sc.pl.scatter(adata,x='log1p_n_genes_by_umis',y='Zbtb16',color='celltype_rough')"
   ]
  },
  {
   "cell_type": "code",
   "execution_count": null,
   "id": "862808a1-4177-49a0-8705-48410a6366a6",
   "metadata": {},
   "outputs": [],
   "source": [
    "for x in adata.var.loc[adata.var['seqname']=='chrY'].index:\n",
    "    sc.pl.umap(adata,color=x)"
   ]
  },
  {
   "cell_type": "code",
   "execution_count": null,
   "id": "b8db3baa-3a4a-47c3-aff3-a251f063eb06",
   "metadata": {},
   "outputs": [],
   "source": [
    "gene_dict = {'chrY':adata.var.loc[adata.var['seqname']=='chrY'].index,\n",
    "            # 'Zbtb markers':['Zbtb16','Fkbp5','Ccnd3','Xist']\n",
    "            }\n",
    "sc.pl.DotPlot(adata,gene_dict,groupby='celltype_rough').add_totals().show()"
   ]
  },
  {
   "cell_type": "code",
   "execution_count": null,
   "id": "27ddb57d-87e3-49cb-8b09-034bcf10c7a1",
   "metadata": {},
   "outputs": [],
   "source": [
    "pd.set_option('display.max_rows', 500)\n",
    "adata.obs.groupby('celltype_rough')['Library'].value_counts()"
   ]
  }
 ],
 "metadata": {
  "kernelspec": {
   "display_name": "Python 3 (ipykernel)",
   "language": "python",
   "name": "python3"
  },
  "language_info": {
   "codemirror_mode": {
    "name": "ipython",
    "version": 3
   },
   "file_extension": ".py",
   "mimetype": "text/x-python",
   "name": "python",
   "nbconvert_exporter": "python",
   "pygments_lexer": "ipython3",
   "version": "3.12.8"
  }
 },
 "nbformat": 4,
 "nbformat_minor": 5
}
